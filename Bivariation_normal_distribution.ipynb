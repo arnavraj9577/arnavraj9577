{
  "nbformat": 4,
  "nbformat_minor": 0,
  "metadata": {
    "colab": {
      "name": "Bivariation normal distribution.ipynb",
      "provenance": [],
      "authorship_tag": "ABX9TyNO8Z5lZROzR31pgTdRpO7S",
      "include_colab_link": true
    },
    "kernelspec": {
      "name": "python3",
      "display_name": "Python 3"
    },
    "language_info": {
      "name": "python"
    }
  },
  "cells": [
    {
      "cell_type": "markdown",
      "metadata": {
        "id": "view-in-github",
        "colab_type": "text"
      },
      "source": [
        "<a href=\"https://colab.research.google.com/github/arnavraj9577/arnavraj9577/blob/main/Bivariation_normal_distribution.ipynb\" target=\"_parent\"><img src=\"https://colab.research.google.com/assets/colab-badge.svg\" alt=\"Open In Colab\"/></a>"
      ]
    },
    {
      "cell_type": "markdown",
      "source": [
        "#**Animate bivariation normal distribution.**\n",
        "           \n",
        "      \n",
        "The Gaussian distribution(or normal distribution) is one of the most fundamental probability distributions in nature. From its occurrence in daily life to its applications in statistical learning techniques, it is one of the most profound mathematical discoveries ever made. This article will ahead towards the multi-dimensional distribution and get an intuitive understanding of the bivariate normal distribution.\n",
        "\n",
        "The benefit of covering the bivariate distribution is that we can visually see and understand using appropriate geometric plots. Moreover, the same concepts learned through the bivariate distribution can be extended to any number of dimensions. We’ll first briefly cover the theoretical aspects of the distribution and do an exhaustive analysis of the various aspects of it, like the covariance matrix and the density function in Python!\n",
        "\n",
        "The main function used in this article is the `scipy.stats.multivariate_normal` function from the Scipy utility for a `multivariate_normal`.\n",
        "\n",
        "We will start our code sessions with the standard `jax`, `matplotlib` and `scipy`  imports. we are using `%matplotlib` for animation in graph. \n",
        "\n"
      ],
      "metadata": {
        "id": "ri9mpuDGq32C"
      }
    },
    {
      "cell_type": "markdown",
      "source": [
        ""
      ],
      "metadata": {
        "id": "uFf89r3hq3y8"
      }
    },
    {
      "cell_type": "code",
      "execution_count": 1,
      "metadata": {
        "id": "Ky9RUXuPDb3Y",
        "colab": {
          "base_uri": "https://localhost:8080/"
        },
        "outputId": "3e48a731-74e0-4186-f73c-afd8b7af4c92"
      },
      "outputs": [
        {
          "output_type": "stream",
          "name": "stdout",
          "text": [
            "Using matplotlib backend: agg\n"
          ]
        }
      ],
      "source": [
        "import matplotlib.pyplot as plt\n",
        "import jax.numpy as jnp\n",
        "from jax import random\n",
        "from scipy.stats import multivariate_normal\n",
        "from jax import scipy\n",
        "import jax.scipy.stats.beta as jssb\n",
        "from jax.scipy.linalg import cholesky\n",
        "from jax.numpy import angle\n",
        "import numpy as np\n",
        "from matplotlib.patches import Ellipse\n",
        "from jax.numpy import zeros\n",
        "from jax.numpy import size\n",
        "%matplotlib"
      ]
    },
    {
      "cell_type": "markdown",
      "source": [
        "#**Define limits of plotting**\n",
        "\n",
        "We define the limits of plotting the `matplotlib` graps as `X` and `Y`."
      ],
      "metadata": {
        "id": "SFE4Lsr9vthc"
      }
    },
    {
      "cell_type": "code",
      "source": [
        "X = jnp.array([-5,0.1,5])\n",
        "Y = jnp.array([-5,0.1,5])"
      ],
      "metadata": {
        "colab": {
          "base_uri": "https://localhost:8080/"
        },
        "id": "217mPOW8Ep5C",
        "outputId": "c55802f3-49ed-4b00-a01e-7aeab00fbd25"
      },
      "execution_count": 2,
      "outputs": [
        {
          "output_type": "stream",
          "name": "stderr",
          "text": [
            "WARNING:absl:No GPU/TPU found, falling back to CPU. (Set TF_CPP_MIN_LOG_LEVEL=0 and rerun for more info.)\n"
          ]
        }
      ]
    },
    {
      "cell_type": "markdown",
      "source": [
        "#**2-d Mean and covariance matrix**\n",
        "\n",
        "In the following code snippets we’ll be generating Gaussian bivariate distributions with `mean` `[0,0]` and with `covariance` `[1, 0.6]`,` [0.6, 2]` "
      ],
      "metadata": {
        "id": "g1SXPUSzwL45"
      }
    },
    {
      "cell_type": "code",
      "source": [
        "mean = jnp.array([0,0])\n",
        "cov_val =[0.6] \n",
        "for idx, val in enumerate(cov_val):\n",
        "  plt.subplot(1,3,idx+1)\n",
        "  cov = jnp.array([[1, val], [val, 2]])\n"
      ],
      "metadata": {
        "id": "IeBWoCBWFDK5",
        "colab": {
          "base_uri": "https://localhost:8080/",
          "height": 269
        },
        "outputId": "c998b7ab-6c5c-490f-e679-16aedd01dd69"
      },
      "execution_count": 3,
      "outputs": [
        {
          "output_type": "display_data",
          "data": {
            "text/plain": [
              "<Figure size 432x288 with 1 Axes>"
            ],
            "image/png": "[encoded data removed]"
          },
          "metadata": {
            "needs_background": "light"
          }
        }
      ]
    },
    {
      "cell_type": "markdown",
      "source": [
        ""
      ],
      "metadata": {
        "id": "K1SZtmnNxglE"
      }
    },
    {
      "cell_type": "markdown",
      "source": [
        "**Probability Density Function(or density function or PDF) of a Bivariate Gaussian distribution**\n",
        "\n",
        "The density function describes the relative likelihood of a random variable X     at a given sample. If the value is high around a given sample, that means that the random variable will most probably take on that value when sampled at random. Usin function `jax.scipy.stats.beta` for `pdf`."
      ],
      "metadata": {
        "id": "PaVWwluZxtoa"
      }
    },
    {
      "cell_type": "code",
      "source": [
        "  Z_x = jssb.pdf(X, mean[1], jnp.sqrt(cov[1,1]))\n",
        "  Z_y = jssb.pdf(Y, mean[2], jnp.sqrt(cov[1,1]))"
      ],
      "metadata": {
        "id": "Q1NTPjPQGZAF"
      },
      "execution_count": 4,
      "outputs": []
    },
    {
      "cell_type": "markdown",
      "source": [
        "**Get the 2-d samples for the \"floor\"**\n",
        "\n",
        "Here we are doing our calculation getting our samples for the floor by using `multivariate_normal` of `scipy.stats`.We can also use here jax module code also for multivariate `jax.random.multivariate_normal`."
      ],
      "metadata": {
        "id": "gPOD-TJbyQVt"
      }
    },
    {
      "cell_type": "code",
      "source": [
        "  Samples = multivariate_normal(mean = mean,cov = cov,seed = 1000)\n",
        "  data = Samples.rvs(size= 10000)\n",
        "  "
      ],
      "metadata": {
        "id": "5qKjfrKeHn0v"
      },
      "execution_count": 5,
      "outputs": []
    },
    {
      "cell_type": "markdown",
      "source": [
        "**Get the sigma ellipses by transform a circle by the cholesky decomposition**\n",
        "\n",
        "Here we are using `cholesky` function to transform a circle in ellipse by using the `jax.scipy.linalg` function of `jax` module also here we are using `linspace`function and `matmul`function of the module."
      ],
      "metadata": {
        "id": "mhBCWZdlyyRO"
      }
    },
    {
      "cell_type": "code",
      "source": [
        "  L= cholesky(cov, lower = True)\n",
        "  t = jnp.linspace(0, 2*np.pi, 100)\n",
        "  C = jnp.array([jnp.cos(t), jnp.sin(t)])\n",
        "  E1= 1*jnp.matmul(L,C); E2 = 2*jnp.matmul(L,C);E3 = 3*jnp.matmul(L,C)\n",
        "\n"
      ],
      "metadata": {
        "id": "ezD3_6qKLWVz"
      },
      "execution_count": 6,
      "outputs": []
    },
    {
      "cell_type": "markdown",
      "source": [
        "**Plot the samples and the pdf in 3d form**\n",
        "\n",
        "Here we are using `plt.figure` function for plotting the figure `plt.axes` for plotting the 3d axes `plt.plot` for the plotting the line graph `ax.hist` for plotting the histogram `plt.contourf` for plotting the contour using `plt.xlabel` and `plt.ylabel`and using `plt.title` for giving the title of the graph."
      ],
      "metadata": {
        "id": "mYkG4I6azqLy"
      }
    },
    {
      "cell_type": "code",
      "source": [
        "  fig = plt.figure()\n",
        "  ax = plt.axes(projection='3d')\n",
        "  plt.plot(data[:,0],data[:,1],'.',c = 'k',markeredgewidth = 0, markeredgecolor = 'black')\n",
        "  #ax.plot(E1[1,:], E1[2,:], zs=1e-3+0,zdir = 'z', label = 'curve in (x,y)')\n",
        "  ax.plot(E2[1,:], E2[2,:], zs=1e-3+0,zdir = 'z', label = 'curve in (x,y)')\n",
        "  plt.plot(E3[1,:], E3[2,:], 1e-3+0)\n",
        "  #ax.hist(data[:,1], bins=20)\n",
        "  plt.xlabel('x')\n",
        "  plt.ylabel('y')\n",
        "  plt.title(\"bivariate normal distribution\")\n",
        "plt.show()\n",
        "  \n",
        "\n"
      ],
      "metadata": {
        "colab": {
          "base_uri": "https://localhost:8080/",
          "height": 265
        },
        "id": "jrou1rzqMJQY",
        "outputId": "b157625b-d8bb-446e-8326-5cb07daffffa"
      },
      "execution_count": 7,
      "outputs": [
        {
          "output_type": "execute_result",
          "data": {
            "text/plain": [
              "Text(0.5, 0, 'y')"
            ]
          },
          "metadata": {},
          "execution_count": 7
        },
        {
          "output_type": "display_data",
          "data": {
            "text/plain": [
              "<Figure size 432x288 with 1 Axes>"
            ],
            "image/png": "[encoded data removed]"
          },
          "metadata": {
            "needs_background": "light"
          }
        }
      ]
    },
    {
      "cell_type": "markdown",
      "source": [
        "**Reference**\n",
        "\n",
        "https://en.wikipedia.org/wiki/Multivariate_normal_distribution\n",
        "\n",
        "https://matplotlib.org/\n",
        "\n",
        "https://in.mathworks.com/\n",
        "\n",
        "https://jax.readthedocs.io/en/latest/notebooks/quickstart.html\n",
        "\n",
        "https://en.wikipedia.org/wiki/File:MultivariateNormal.png"
      ],
      "metadata": {
        "id": "JQ392psg4VTD"
      }
    },
    {
      "cell_type": "code",
      "source": [
        ""
      ],
      "metadata": {
        "id": "vjwsFtlYTV5s"
      },
      "execution_count": 7,
      "outputs": []
    },
    {
      "cell_type": "code",
      "source": [
        ""
      ],
      "metadata": {
        "id": "WCrgs-w6Z3MZ"
      },
      "execution_count": 7,
      "outputs": []
    }
  ]
}